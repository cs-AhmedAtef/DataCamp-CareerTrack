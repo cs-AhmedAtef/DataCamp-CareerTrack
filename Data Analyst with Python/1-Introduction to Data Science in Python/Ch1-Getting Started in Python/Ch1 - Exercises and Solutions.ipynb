{
 "cells": [
  {
   "cell_type": "markdown",
   "metadata": {},
   "source": [
    "# Importing Python modules\n",
    "1-in the script editor, use an import statement to import statsmodels and add an as statement to alias statsmodels to sm.\n",
    "\n",
    "2-add an as statement to alias seaborn to sns."
   ]
  },
  {
   "cell_type": "code",
   "execution_count": 1,
   "metadata": {},
   "outputs": [],
   "source": [
    "# Import statsmodels under the alias sm\n",
    "import statsmodels as sm \n",
    "# -------------------------------------------\n",
    "# Use an import statement to import seaborn with alias sns\n",
    "import seaborn as sns "
   ]
  },
  {
   "cell_type": "markdown",
   "metadata": {},
   "source": [
    "# Correcting a broken import\n",
    "Fix the import of numpy to run without errors."
   ]
  },
  {
   "cell_type": "code",
   "execution_count": null,
   "metadata": {},
   "outputs": [],
   "source": [
    "# Fix the import of numpy to run without errors\n",
    "import numpy as np   #=>>>>After changed"
   ]
  },
  {
   "cell_type": "markdown",
   "metadata": {},
   "source": [
    "# Creating a float\n",
    "1-Define a variable called bayes_age and set it equal to 4.0.\n",
    "\n",
    "2-Display the variable bayes_age."
   ]
  },
  {
   "cell_type": "code",
   "execution_count": 4,
   "metadata": {},
   "outputs": [
    {
     "name": "stdout",
     "output_type": "stream",
     "text": [
      "4.0\n"
     ]
    }
   ],
   "source": [
    "# Fill in Bayes' age (4.0)\n",
    "bayes_age = 4.0\n",
    "# -------------------------\n",
    "# Display the variable bayes_age\n",
    "print(bayes_age)"
   ]
  },
  {
   "cell_type": "markdown",
   "metadata": {},
   "source": [
    "# Creating strings\n",
    "1-Define a variable called favorite_toy whose value is \"Mr. Squeaky\".\n",
    "\n",
    "2-Define a variable called owner whose value is 'DataCamp'.\n",
    "\n",
    "3-Show the values assigned to these variables."
   ]
  },
  {
   "cell_type": "code",
   "execution_count": 5,
   "metadata": {},
   "outputs": [
    {
     "name": "stdout",
     "output_type": "stream",
     "text": [
      "Mr. Squeaky\n",
      "DataCamp\n"
     ]
    }
   ],
   "source": [
    "# Bayes' favorite toy\n",
    "favorite_toy = \"Mr. Squeaky\"\n",
    "# Bayes' owner\n",
    "owner = 'DataCamp'\n",
    "\n",
    "# Display variables\n",
    "print(favorite_toy)\n",
    "print(owner)"
   ]
  },
  {
   "cell_type": "markdown",
   "metadata": {},
   "source": [
    "# Correcting string errors\n",
    "Correct the mistakes in the code so that it runs without producing syntax errors."
   ]
  },
  {
   "cell_type": "code",
   "execution_count": 8,
   "metadata": {},
   "outputs": [],
   "source": [
    "# One or more of the following lines contains an error\n",
    "# Correct it so that it runs without producing syntax errors\n",
    "#>> birthday = \"2017-07-14'\n",
    "#>> case_id = 'DATACAMP!123-456?\n",
    "#_________________________________#\n",
    "#Soluitons\n",
    "birthday = \"2017-07-14\"\n",
    "case_id = 'DATACAMP!123-456?'"
   ]
  },
  {
   "cell_type": "markdown",
   "metadata": {},
   "source": [
    "# Load a DataFrame\n",
    "Use pd.read_csv to load data from a CSV file called ransom.csv. This file represents the frequency of each letter in the ransom note for Bayes."
   ]
  },
  {
   "cell_type": "code",
   "execution_count": 10,
   "metadata": {},
   "outputs": [],
   "source": [
    "# Import pandas\n",
    "#import pandas as pd\n",
    "# Load the 'ransom.csv' into a DataFrame\n",
    "#>>  r = ___.___('___')\n",
    "# Display DataFrame\n",
    "#>>  print(r)\n",
    "\n",
    "#________________________#\n",
    "\n",
    "#Soluitons\n",
    "import pandas as pd\n",
    "r = pd.read_csv('ransom.csv')\n",
    "print(r) "
   ]
  },
  {
   "cell_type": "markdown",
   "metadata": {},
   "source": [
    "# Correcting a function error\n",
    "#### Exercise\n",
    "The code in the script editor should plot information from the DataFrame that we loaded in the previous exercise.\n",
    "However, there is an error in function syntax. Remember that common function errors include:\n",
    "Forgetting closing parenthesis\n",
    "Forgetting commas between each argument\n",
    "Note that all arguments to the functions are correct. The problem is in the function syntax.\n",
    "#### Instructions\n",
    "Correct the code so that it runs without syntax errors"
   ]
  },
  {
   "cell_type": "code",
   "execution_count": 12,
   "metadata": {},
   "outputs": [],
   "source": [
    "# One or more of the following lines contains an error\n",
    "# Correct it so that it runs without producing syntax errors\n",
    "# Plot a graph\n",
    "plt.plot(x_values y_values)\n",
    "# Display the graph\n",
    "plt.show()\n",
    "#_________________________#\n",
    "\n",
    "#Soluitons\n",
    "plt.plot(x_values, y_values)\n",
    "plt.show() "
   ]
  },
  {
   "cell_type": "markdown",
   "metadata": {},
   "source": [
    "# Snooping for suspects\n",
    "#### Exercise\n",
    "We need to narrow down the list of suspects for the kidnapping of Bayes. Once we have a list of suspects, we'll ask them for writing samples and compare them to the ransom note.\n",
    "A witness to the crime noticed a green truck leaving the scene of the crime whose license plate began with 'FRQ'. We'll use this information to search for some suspects.\n",
    "As a detective, you have access to a special function called lookup_plate.\n",
    "\n",
    "#### Instructions\n",
    "1-Create a variable called plate that represents the observed license plate: the first three letters were FRQ, but the witness couldn't see the final 4 letters. Use asterisks (*) to represent missing letters.\n",
    "\n",
    "2-Call lookup_plate() using the variable plate.\n",
    "\n",
    "3-Calling lookup_plate() with the license plate FRQ**** produced too many results. Luckily, lookup_plate() also accepts a keyword argument: color. Use the color of the car ('Green') to get a smaller list."
   ]
  },
  {
   "cell_type": "code",
   "execution_count": 14,
   "metadata": {},
   "outputs": [],
   "source": [
    "# Define plate to represent a plate beginning with FRQ\n",
    "# Use * to represent the missing four letters\n",
    "____ = ____\n",
    "# Call the function lookup_plate()\n",
    "____(____)\n",
    "# Call lookup_plate() with the keyword argument for color\n",
    "lookup_plate(plate, ____=____)\n",
    "#___________________________________#\n",
    "\n",
    "#Soluitons\n",
    "plate = 'FRQ****'\n",
    "lookup_plate(plate)\n",
    "lookup_plate(plate, color='Green')"
   ]
  }
 ],
 "metadata": {
  "kernelspec": {
   "display_name": "Python 3",
   "language": "python",
   "name": "python3"
  },
  "language_info": {
   "codemirror_mode": {
    "name": "ipython",
    "version": 3
   },
   "file_extension": ".py",
   "mimetype": "text/x-python",
   "name": "python",
   "nbconvert_exporter": "python",
   "pygments_lexer": "ipython3",
   "version": "3.8.3"
  }
 },
 "nbformat": 4,
 "nbformat_minor": 4
}
